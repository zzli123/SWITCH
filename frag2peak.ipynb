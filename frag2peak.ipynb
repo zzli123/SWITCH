{
 "cells": [
  {
   "cell_type": "code",
   "execution_count": 2,
   "metadata": {},
   "outputs": [
    {
     "data": {
      "text/plain": [
       "'2.4.0'"
      ]
     },
     "execution_count": 2,
     "metadata": {},
     "output_type": "execute_result"
    }
   ],
   "source": [
    "import snapatac2 as snap\n",
    "import numpy as np\n",
    "import polars as pl\n",
    "\n",
    "snap.__version__"
   ]
  },
  {
   "cell_type": "code",
   "execution_count": null,
   "metadata": {},
   "outputs": [],
   "source": [
    "import os\n",
    "os.chdir(\"../../DATA/Brain_subregion/\")"
   ]
  },
  {
   "cell_type": "code",
   "execution_count": 4,
   "metadata": {},
   "outputs": [
    {
     "data": {
      "text/plain": [
       "AnnData object with n_obs x n_vars = 2500 x 0 backed at 'temp.h5ad'\n",
       "    obs: 'tsse', 'n_fragment', 'frac_dup', 'frac_mito'\n",
       "    uns: 'reference_sequences'\n",
       "    obsm: 'insertion'"
      ]
     },
     "execution_count": 4,
     "metadata": {},
     "output_type": "execute_result"
    }
   ],
   "source": [
    "data = snap.pp.import_data(\n",
    "    fragment_file=\"GSM6204623_MouseBrain_20um_fragments.tsv.gz\",\n",
    "    genome=snap.genome.mm10,\n",
    "    file=\"temp.h5ad\",\n",
    "    sorted_by_barcode=False,\n",
    "    min_num_fragments=0,\n",
    "    min_tsse=0\n",
    ")\n",
    "data"
   ]
  },
  {
   "cell_type": "code",
   "execution_count": 5,
   "metadata": {},
   "outputs": [],
   "source": [
    "snap.pp.add_tile_matrix(data)"
   ]
  },
  {
   "cell_type": "code",
   "execution_count": 15,
   "metadata": {},
   "outputs": [
    {
     "name": "stderr",
     "output_type": "stream",
     "text": [
      "2025-03-16 18:45:37 - INFO - Selected 500000 features.\n"
     ]
    }
   ],
   "source": [
    "snap.pp.select_features(data)\n",
    "snap.tl.spectral(data)"
   ]
  },
  {
   "cell_type": "code",
   "execution_count": 16,
   "metadata": {},
   "outputs": [],
   "source": [
    "snap.pp.knn(data)\n",
    "snap.tl.leiden(data, resolution=0.8)"
   ]
  },
  {
   "cell_type": "code",
   "execution_count": 17,
   "metadata": {},
   "outputs": [
    {
     "data": {
      "text/plain": [
       "7"
      ]
     },
     "execution_count": 17,
     "metadata": {},
     "output_type": "execute_result"
    }
   ],
   "source": [
    "len(set(data.obs[\"leiden\"]))"
   ]
  },
  {
   "cell_type": "code",
   "execution_count": 18,
   "metadata": {},
   "outputs": [
    {
     "name": "stderr",
     "output_type": "stream",
     "text": [
      "2025-03-16 18:45:53 - INFO - Exporting data...\n",
      "2025-03-16 18:47:17 - INFO - Calling peaks for 7 groups ...\n",
      "2025-03-16 18:48:02 - INFO - Merging peaks...\n"
     ]
    }
   ],
   "source": [
    "snap.tl.call_peaks(data, groupby=\"leiden\", q_value=0.01)\n",
    "peaks = list(data.uns[\"peaks\"][\"Peaks\"])"
   ]
  },
  {
   "cell_type": "code",
   "execution_count": 19,
   "metadata": {},
   "outputs": [],
   "source": [
    "import anndata as ad"
   ]
  },
  {
   "cell_type": "code",
   "execution_count": null,
   "metadata": {},
   "outputs": [],
   "source": [
    "peak_mat = snap.pp.make_peak_matrix(data, use_rep=peaks)"
   ]
  },
  {
   "cell_type": "code",
   "execution_count": 21,
   "metadata": {},
   "outputs": [
    {
     "data": {
      "text/plain": [
       "1189"
      ]
     },
     "execution_count": 21,
     "metadata": {},
     "output_type": "execute_result"
    }
   ],
   "source": [
    "np.max(peak_mat.X)"
   ]
  },
  {
   "cell_type": "code",
   "execution_count": null,
   "metadata": {},
   "outputs": [
    {
     "name": "stderr",
     "output_type": "stream",
     "text": [
      "/tmp/ipykernel_2717297/1009788417.py:6: ImplicitModificationWarning: Setting element `.obsm['spatial']` of view, initializing view as actual.\n",
      "  peak_mat.obsm[\"spatial\"] = rna.obsm[\"spatial\"]\n"
     ]
    }
   ],
   "source": [
    "rna = ad.read_h5ad(\"rna.h5ad\")\n",
    "peak_mat =peak_mat[rna.obs_names]\n",
    "peak_mat.obsm[\"spatial\"] = rna.obsm[\"spatial\"].copy()"
   ]
  },
  {
   "cell_type": "code",
   "execution_count": null,
   "metadata": {},
   "outputs": [],
   "source": [
    "peak_mat.write(\"atac.h5ad\")"
   ]
  }
 ],
 "metadata": {
  "kernelspec": {
   "display_name": "snapATAC2",
   "language": "python",
   "name": "python3"
  },
  "language_info": {
   "codemirror_mode": {
    "name": "ipython",
    "version": 3
   },
   "file_extension": ".py",
   "mimetype": "text/x-python",
   "name": "python",
   "nbconvert_exporter": "python",
   "pygments_lexer": "ipython3",
   "version": "3.9.18"
  }
 },
 "nbformat": 4,
 "nbformat_minor": 2
}
