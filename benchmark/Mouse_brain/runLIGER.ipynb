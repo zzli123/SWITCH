{
 "cells": [
  {
   "cell_type": "code",
   "execution_count": 1,
   "metadata": {},
   "outputs": [
    {
     "name": "stderr",
     "output_type": "stream",
     "text": [
      "/mnt/datadisk/lizhongzhan/miniconda3/envs/scSLAT/lib/python3.8/site-packages/tqdm/auto.py:21: TqdmWarning: IProgress not found. Please update jupyter and ipywidgets. See https://ipywidgets.readthedocs.io/en/stable/user_install.html\n"
     ]
    }
   ],
   "source": [
    "import pyliger\n",
    "import scanpy as sc\n",
    "import pandas as pd"
   ]
  },
  {
   "cell_type": "code",
   "execution_count": 2,
   "metadata": {},
   "outputs": [],
   "source": [
    "import os \n",
    "os.chdir(\"/mnt/datadisk/lizhongzhan/GLUE/DATA/H3k4me3/\")"
   ]
  },
  {
   "cell_type": "code",
   "execution_count": 3,
   "metadata": {},
   "outputs": [],
   "source": [
    "rna = sc.read_h5ad(\"rna-pp.h5ad\")\n",
    "# rna.obs_names = [\"RNA#\"+i for i in list(rna.obs_names)]"
   ]
  },
  {
   "cell_type": "code",
   "execution_count": 4,
   "metadata": {},
   "outputs": [],
   "source": [
    "# genescore = pd.read_csv(\"gs.csv\", index_col=0)\n",
    "# genescore = genescore.transpose()\n",
    "# # genescore.index = [\"H3keme3\"+i.split(\".\")[1]+\"-1\" for i in list(genescore.index)]\n",
    "# genescore = sc.AnnData(X=genescore)"
   ]
  },
  {
   "cell_type": "code",
   "execution_count": 5,
   "metadata": {},
   "outputs": [],
   "source": [
    "genescore = sc.read_h5ad(\"GeneScore.h5ad\")\n",
    "genescore.obs_names = [i.split(\"-\")[0] for i in list(genescore.obs_names)]"
   ]
  },
  {
   "cell_type": "code",
   "execution_count": 6,
   "metadata": {},
   "outputs": [
    {
     "data": {
      "text/plain": [
       "View of AnnData object with n_obs × n_vars = 9542 × 55291\n",
       "    obs: 'tsse', 'n_fragment', 'frac_dup', 'frac_mito'\n",
       "    uns: 'reference_sequences'\n",
       "    obsm: 'insertion'"
      ]
     },
     "execution_count": 6,
     "metadata": {},
     "output_type": "execute_result"
    }
   ],
   "source": [
    "cells = [i for i in list(rna.obs_names) if i in list(genescore.obs_names) ]\n",
    "genescore = genescore[cells,]\n",
    "genescore"
   ]
  },
  {
   "cell_type": "code",
   "execution_count": 7,
   "metadata": {},
   "outputs": [],
   "source": [
    "rna.obs_names = [\"RNA#\"+i for i in list(rna.obs_names)]\n",
    "genescore.obs_names = [\"GS#\"+i for i in list(genescore.obs_names)]"
   ]
  },
  {
   "cell_type": "code",
   "execution_count": 8,
   "metadata": {},
   "outputs": [],
   "source": [
    "rna.obs.index.name = \"cell\"\n",
    "rna.var.index.name = \"gene\"\n",
    "genescore.obs.index.name = \"cell\"\n",
    "genescore.var.index.name = \"gene\"\n",
    "rna.uns[\"sample_name\"] = \"RNA\"\n",
    "genescore.uns[\"sample_name\"] = \"H3k4me3\""
   ]
  },
  {
   "cell_type": "code",
   "execution_count": 9,
   "metadata": {},
   "outputs": [],
   "source": [
    "rna.var_names_make_unique()\n",
    "genescore.var_names_make_unique()"
   ]
  },
  {
   "cell_type": "code",
   "execution_count": 10,
   "metadata": {},
   "outputs": [
    {
     "name": "stdout",
     "output_type": "stream",
     "text": [
      "Removing 40 genes not expressing in RNA.\n",
      "Removing 4205 genes not expressing in H3k4me3.\n"
     ]
    }
   ],
   "source": [
    "adata_list = [rna, genescore]\n",
    "ifnb_liger = pyliger.create_liger(adata_list)"
   ]
  },
  {
   "cell_type": "code",
   "execution_count": 11,
   "metadata": {},
   "outputs": [],
   "source": [
    "pyliger.normalize(ifnb_liger)\n",
    "pyliger.select_genes(ifnb_liger)\n",
    "pyliger.scale_not_center(ifnb_liger)"
   ]
  },
  {
   "cell_type": "code",
   "execution_count": 12,
   "metadata": {},
   "outputs": [
    {
     "name": "stderr",
     "output_type": "stream",
     "text": [
      "100%|██████████| 30/30 [06:41<00:00, 13.37s/it]\n"
     ]
    }
   ],
   "source": [
    "pyliger.optimize_ALS(ifnb_liger, k = 20)"
   ]
  },
  {
   "cell_type": "code",
   "execution_count": 13,
   "metadata": {},
   "outputs": [],
   "source": [
    "pyliger.quantile_norm(ifnb_liger)"
   ]
  },
  {
   "cell_type": "code",
   "execution_count": 14,
   "metadata": {},
   "outputs": [
    {
     "name": "stderr",
     "output_type": "stream",
     "text": [
      "/mnt/datadisk/lizhongzhan/miniconda3/envs/scSLAT/lib/python3.8/site-packages/umap/umap_.py:1945: UserWarning: n_jobs value 1 overridden to 1 by setting random_state. Use no seed for parallelism.\n"
     ]
    }
   ],
   "source": [
    "pyliger.run_umap(ifnb_liger, distance = 'cosine', n_neighbors = 30, min_dist = 0.3)"
   ]
  },
  {
   "cell_type": "code",
   "execution_count": 15,
   "metadata": {},
   "outputs": [],
   "source": [
    "import numpy as np\n",
    "embed = pd.DataFrame(np.vstack([adata.obsm['H_norm'] for adata in ifnb_liger.adata_list]))"
   ]
  },
  {
   "cell_type": "code",
   "execution_count": 16,
   "metadata": {},
   "outputs": [],
   "source": [
    "embed.index = sum([list(adata.obs_names) for adata in ifnb_liger.adata_list],[])"
   ]
  },
  {
   "cell_type": "code",
   "execution_count": 17,
   "metadata": {},
   "outputs": [],
   "source": [
    "pyliger.leiden_cluster(ifnb_liger, resolution=0.7)"
   ]
  },
  {
   "cell_type": "code",
   "execution_count": 18,
   "metadata": {},
   "outputs": [],
   "source": [
    "tsne_df = ifnb_liger.tsne_coords\n",
    "tsne_df['Cluster'] = np.asarray(\n",
    "    np.concatenate([adata.obs['cluster'].to_numpy() for adata in ifnb_liger.adata_list]))\n",
    "tsne_df['Cluster'] = tsne_df['Cluster'].astype('category')"
   ]
  },
  {
   "cell_type": "code",
   "execution_count": 19,
   "metadata": {},
   "outputs": [
    {
     "name": "stdout",
     "output_type": "stream",
     "text": [
      "17\n"
     ]
    }
   ],
   "source": [
    "print(len(set(tsne_df['Cluster'])))"
   ]
  },
  {
   "cell_type": "code",
   "execution_count": 20,
   "metadata": {},
   "outputs": [],
   "source": [
    "umap = pd.DataFrame(tsne_df[[\"tsne1\",\"tsne2\"]])\n",
    "umap.index = list(embed.index)\n",
    "cluster = pd.DataFrame(tsne_df[\"Cluster\"])\n",
    "cluster.index = list(embed.index)"
   ]
  },
  {
   "cell_type": "code",
   "execution_count": 21,
   "metadata": {},
   "outputs": [],
   "source": [
    "embed.to_csv(\"rep5/LIGER_embed.csv\")\n",
    "umap.to_csv(\"rep5/LIGER_umap.csv\")\n",
    "cluster.to_csv(\"rep5/LIGER_cluster.csv\")"
   ]
  }
 ],
 "metadata": {
  "kernelspec": {
   "display_name": "scSLAT",
   "language": "python",
   "name": "python3"
  },
  "language_info": {
   "codemirror_mode": {
    "name": "ipython",
    "version": 3
   },
   "file_extension": ".py",
   "mimetype": "text/x-python",
   "name": "python",
   "nbconvert_exporter": "python",
   "pygments_lexer": "ipython3",
   "version": "3.8.18"
  }
 },
 "nbformat": 4,
 "nbformat_minor": 2
}
