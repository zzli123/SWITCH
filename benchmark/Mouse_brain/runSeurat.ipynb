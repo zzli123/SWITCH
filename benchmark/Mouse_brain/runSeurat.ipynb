{
 "cells": [
  {
   "cell_type": "code",
   "execution_count": 1,
   "metadata": {
    "vscode": {
     "languageId": "r"
    }
   },
   "outputs": [
    {
     "name": "stderr",
     "output_type": "stream",
     "text": [
      "Loading required package: SeuratObject\n",
      "\n",
      "Loading required package: sp\n",
      "\n",
      "\n",
      "Attaching package: ‘SeuratObject’\n",
      "\n",
      "\n",
      "The following objects are masked from ‘package:base’:\n",
      "\n",
      "    intersect, t\n",
      "\n",
      "\n"
     ]
    }
   ],
   "source": [
    "library(\"Seurat\", help, pos = 2, lib.loc = NULL)"
   ]
  },
  {
   "cell_type": "code",
   "execution_count": 2,
   "metadata": {
    "vscode": {
     "languageId": "r"
    }
   },
   "outputs": [],
   "source": [
    "setwd(\"../../DATA/H3k4me3/\")"
   ]
  },
  {
   "cell_type": "code",
   "execution_count": 3,
   "metadata": {
    "vscode": {
     "languageId": "r"
    }
   },
   "outputs": [],
   "source": [
    "# library(\"Matrix\", help, pos = 2, lib.loc = NULL)\n",
    "# genescore = readMM(\"GeneScore.mtx\")\n",
    "# cells = read.csv(\"GeneScoreCells.csv\")\n",
    "# cells = cells$X0\n",
    "# genes = read.csv(\"GeneScoreGenes.csv\")\n",
    "# genes = genes$index\n",
    "# rownames(genescore) <- cells\n",
    "# colnames(genescore) <- genes\n",
    "# genescore = genescore[colnames(rna),]\n",
    "# genescore <- CreateSeuratObject(counts = t(genescore))"
   ]
  },
  {
   "cell_type": "code",
   "execution_count": 4,
   "metadata": {
    "vscode": {
     "languageId": "r"
    }
   },
   "outputs": [],
   "source": [
    "# library(zellkonverter)\n",
    "# rna <- readH5AD(\"rna-pp.h5ad\")\n",
    "# rna <- CreateSeuratObject(counts = rna@assays@data$X)"
   ]
  },
  {
   "cell_type": "code",
   "execution_count": 5,
   "metadata": {
    "vscode": {
     "languageId": "r"
    }
   },
   "outputs": [],
   "source": [
    "# saveRDS(genescore, file = \"GeneScore.rds\")\n",
    "# saveRDS(rna, file = \"rna.rds\")"
   ]
  },
  {
   "cell_type": "code",
   "execution_count": 6,
   "metadata": {
    "vscode": {
     "languageId": "r"
    }
   },
   "outputs": [],
   "source": [
    "rna <- readRDS(\"rna.rds\")\n",
    "genescore <- readRDS(\"GeneScore.rds\")"
   ]
  },
  {
   "cell_type": "code",
   "execution_count": 7,
   "metadata": {
    "vscode": {
     "languageId": "r"
    }
   },
   "outputs": [],
   "source": [
    "rna$omic <- \"rna\"\n",
    "genescore$omic <- \"atac\""
   ]
  },
  {
   "cell_type": "code",
   "execution_count": 8,
   "metadata": {
    "vscode": {
     "languageId": "r"
    }
   },
   "outputs": [],
   "source": [
    "rna <- NormalizeData(rna, verbose=FALSE)\n",
    "rna <- FindVariableFeatures(rna, verbose=FALSE, nfeatures=3000)\n",
    "rna <- ScaleData(rna, verbose=FALSE)"
   ]
  },
  {
   "cell_type": "code",
   "execution_count": 9,
   "metadata": {
    "vscode": {
     "languageId": "r"
    }
   },
   "outputs": [
    {
     "name": "stderr",
     "output_type": "stream",
     "text": [
      "Normalizing layer: counts\n",
      "\n"
     ]
    },
    {
     "name": "stderr",
     "output_type": "stream",
     "text": [
      "Centering and scaling data matrix\n",
      "\n"
     ]
    }
   ],
   "source": [
    "genescore <- NormalizeData(genescore)\n",
    "genescore <- FindVariableFeatures(genescore, verbose=FALSE, nfeatures=3000)\n",
    "genescore <- ScaleData(genescore)"
   ]
  },
  {
   "cell_type": "code",
   "execution_count": 10,
   "metadata": {
    "vscode": {
     "languageId": "r"
    }
   },
   "outputs": [
    {
     "name": "stderr",
     "output_type": "stream",
     "text": [
      "Warning message in CheckDuplicateCellNames(object.list = object.list):\n",
      "“Some cell names are duplicated across objects provided. Renaming to enforce unique cell names.”\n"
     ]
    },
    {
     "name": "stderr",
     "output_type": "stream",
     "text": [
      "Computing 2000 integration features\n",
      "\n",
      "Scaling features for provided objects\n",
      "\n",
      "Warning message:\n",
      "“Different features in new layer data than already exists for scale.data”\n",
      "Warning message:\n",
      "“Different features in new layer data than already exists for scale.data”\n",
      "Finding all pairwise anchors\n",
      "\n",
      "Running CCA\n",
      "\n",
      "Merging objects\n",
      "\n",
      "Finding neighborhoods\n",
      "\n",
      "Finding anchors\n",
      "\n",
      "\tFound 29418 anchors\n",
      "\n",
      "Filtering anchors\n",
      "\n",
      "\tRetained 3924 anchors\n",
      "\n",
      "Merging dataset 2 into 1\n",
      "\n",
      "Extracting anchors for merged samples\n",
      "\n",
      "Finding integration vectors\n",
      "\n",
      "Finding integration vector weights\n",
      "\n",
      "Integrating data\n",
      "\n",
      "Warning message:\n",
      "“Layer counts isn't present in the assay object; returning NULL”\n",
      "Warning message:\n",
      "“The default method for RunUMAP has changed from calling Python UMAP via reticulate to the R-native UWOT using the cosine metric\n",
      "To use Python UMAP via reticulate, set umap.method to 'umap-learn' and metric to 'correlation'\n",
      "This message will be shown once per session”\n",
      "23:13:19 UMAP embedding parameters a = 0.9922 b = 1.112\n",
      "\n",
      "23:13:19 Read 19084 rows and found 50 numeric columns\n",
      "\n",
      "23:13:19 Using Annoy for neighbor search, n_neighbors = 30\n",
      "\n",
      "23:13:19 Building Annoy index with metric = cosine, n_trees = 50\n",
      "\n",
      "0%   10   20   30   40   50   60   70   80   90   100%\n",
      "\n",
      "[----|----|----|----|----|----|----|----|----|----|\n",
      "\n",
      "*\n",
      "*\n",
      "*\n",
      "*\n",
      "*\n",
      "*\n",
      "*\n",
      "*\n",
      "*\n",
      "*\n",
      "*\n",
      "*\n",
      "*\n",
      "*\n",
      "*\n",
      "*\n",
      "*\n",
      "*\n",
      "*\n",
      "*\n",
      "*\n",
      "*\n",
      "*\n",
      "*\n",
      "*\n",
      "*\n",
      "*\n",
      "*\n",
      "*\n",
      "*\n",
      "*\n",
      "*\n",
      "*\n",
      "*\n",
      "*\n",
      "*\n",
      "*\n",
      "*\n",
      "*\n",
      "*\n",
      "*\n",
      "*\n",
      "*\n",
      "*\n",
      "*\n",
      "*\n",
      "*\n",
      "*\n",
      "*\n",
      "*\n",
      "|\n",
      "\n",
      "23:13:21 Writing NN index file to temp file /tmp/RtmpePxIWu/file74d67179f440b\n",
      "\n",
      "23:13:21 Searching Annoy index using 1 thread, search_k = 3000\n",
      "\n",
      "23:13:27 Annoy recall = 100%\n",
      "\n",
      "23:13:27 Commencing smooth kNN distance calibration using 1 thread\n",
      " with target n_neighbors = 30\n",
      "\n",
      "23:13:28 Initializing from normalized Laplacian + noise (using RSpectra)\n",
      "\n",
      "23:13:28 Commencing optimization for 200 epochs, with 912776 positive edges\n",
      "\n",
      "23:13:36 Optimization finished\n",
      "\n",
      "Computing nearest neighbor graph\n",
      "\n",
      "Computing SNN\n",
      "\n"
     ]
    }
   ],
   "source": [
    "# Combined\n",
    "Int.anchors <- FindIntegrationAnchors(object.list = list(rna, genescore))\n",
    "combined <- IntegrateData(anchorset = Int.anchors)\n",
    "DefaultAssay(combined) <- \"integrated\"\n",
    "combined <- ScaleData(combined, verbose = FALSE)\n",
    "combined <- RunPCA(combined, verbose = FALSE)\n",
    "combined <- RunUMAP(combined, reduction = \"pca\", dims = 1:50)\n",
    "combined <- FindNeighbors(combined, reduction = \"pca\", dims = 1:50)"
   ]
  },
  {
   "cell_type": "code",
   "execution_count": 15,
   "metadata": {
    "vscode": {
     "languageId": "r"
    }
   },
   "outputs": [
    {
     "name": "stdout",
     "output_type": "stream",
     "text": [
      "Modularity Optimizer version 1.3.0 by Ludo Waltman and Nees Jan van Eck\n",
      "\n",
      "Number of nodes: 19084\n",
      "Number of edges: 726270\n",
      "\n",
      "Running Louvain algorithm...\n",
      "Maximum modularity in 10 random starts: 0.8260\n",
      "Number of communities: 19\n",
      "Elapsed time: 2 seconds\n"
     ]
    },
    {
     "name": "stderr",
     "output_type": "stream",
     "text": [
      "2 singletons identified. 17 final clusters.\n",
      "\n"
     ]
    },
    {
     "name": "stdout",
     "output_type": "stream",
     "text": [
      "[1] 17\n"
     ]
    }
   ],
   "source": [
    "combined <- FindClusters(combined)\n",
    "print(length(unique((combined$seurat_clusters))))"
   ]
  },
  {
   "cell_type": "code",
   "execution_count": 16,
   "metadata": {
    "vscode": {
     "languageId": "r"
    }
   },
   "outputs": [],
   "source": [
    "embed = combined@reductions$pca@cell.embeddings\n",
    "umap <- combined@reductions$umap@cell.embeddings\n",
    "cluster <- combined$seurat_clusters"
   ]
  },
  {
   "cell_type": "code",
   "execution_count": 13,
   "metadata": {
    "vscode": {
     "languageId": "r"
    }
   },
   "outputs": [],
   "source": [
    "# write.csv(file=\"rep1/Seurat_embed.csv\", embed)\n",
    "# write.csv(file=\"rep1/Seurat_umap.csv\", umap)\n",
    "# write.csv(file=\"rep1/Seurat_cluster.csv\", cluster)"
   ]
  }
 ],
 "metadata": {
  "kernelspec": {
   "display_name": "R",
   "language": "R",
   "name": "ir"
  },
  "language_info": {
   "codemirror_mode": "r",
   "file_extension": ".r",
   "mimetype": "text/x-r-source",
   "name": "R",
   "pygments_lexer": "r",
   "version": "4.3.1"
  }
 },
 "nbformat": 4,
 "nbformat_minor": 2
}
