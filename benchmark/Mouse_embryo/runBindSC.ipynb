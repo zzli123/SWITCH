{
 "cells": [
  {
   "cell_type": "code",
   "execution_count": 1,
   "metadata": {
    "vscode": {
     "languageId": "r"
    }
   },
   "outputs": [],
   "source": [
    "# remotes::install_github('KChen-lab/bindSC')"
   ]
  },
  {
   "cell_type": "code",
   "execution_count": 2,
   "metadata": {
    "vscode": {
     "languageId": "r"
    }
   },
   "outputs": [
    {
     "name": "stderr",
     "output_type": "stream",
     "text": [
      "Loading required package: umap\n",
      "\n",
      "Loading required package: irlba\n",
      "\n",
      "Loading required package: Matrix\n",
      "\n",
      "Loading required package: progress\n",
      "\n",
      "Loading required package: ggplot2\n",
      "\n",
      "Loading required package: dplyr\n",
      "\n",
      "\n",
      "Attaching package: ‘dplyr’\n",
      "\n",
      "\n",
      "The following objects are masked from ‘package:stats’:\n",
      "\n",
      "    filter, lag\n",
      "\n",
      "\n",
      "The following objects are masked from ‘package:base’:\n",
      "\n",
      "    intersect, setdiff, setequal, union\n",
      "\n",
      "\n",
      "Loading required package: DescTools\n",
      "\n",
      "Loading required package: ggpubr\n",
      "\n",
      "Loading required package: gtools\n",
      "\n",
      "Loading required package: reshape2\n",
      "\n",
      "Loading required package: ggrepel\n",
      "\n",
      "Loading required package: rdist\n",
      "\n"
     ]
    }
   ],
   "source": [
    "library(bindSC)"
   ]
  },
  {
   "cell_type": "code",
   "execution_count": 3,
   "metadata": {
    "vscode": {
     "languageId": "r"
    }
   },
   "outputs": [],
   "source": [
    "setwd(\"../../../DATA/Mouse_embryo\")"
   ]
  },
  {
   "cell_type": "code",
   "execution_count": 4,
   "metadata": {
    "vscode": {
     "languageId": "r"
    }
   },
   "outputs": [
    {
     "name": "stderr",
     "output_type": "stream",
     "text": [
      "Registered S3 method overwritten by 'zellkonverter':\n",
      "  method                                             from      \n",
      "  py_to_r.pandas.core.arrays.categorical.Categorical reticulate\n",
      "\n"
     ]
    }
   ],
   "source": [
    "genescore <- readRDS(\"GeneScore.rds\")\n",
    "rna <- readRDS(\"rna.rds\")\n",
    "library(zellkonverter)\n",
    "peak <- readH5AD(\"atac-pp.h5ad\")"
   ]
  },
  {
   "cell_type": "code",
   "execution_count": 5,
   "metadata": {
    "vscode": {
     "languageId": "r"
    }
   },
   "outputs": [
    {
     "name": "stderr",
     "output_type": "stream",
     "text": [
      "Loading required package: SeuratObject\n",
      "\n",
      "Loading required package: sp\n",
      "\n"
     ]
    },
    {
     "name": "stderr",
     "output_type": "stream",
     "text": [
      "\n",
      "Attaching package: ‘SeuratObject’\n",
      "\n",
      "\n",
      "The following objects are masked from ‘package:base’:\n",
      "\n",
      "    intersect, t\n",
      "\n",
      "\n",
      "Computing nearest neighbor graph\n",
      "\n",
      "Computing SNN\n",
      "\n"
     ]
    },
    {
     "name": "stdout",
     "output_type": "stream",
     "text": [
      "Modularity Optimizer version 1.3.0 by Ludo Waltman and Nees Jan van Eck\n",
      "\n",
      "Number of nodes: 2187\n",
      "Number of edges: 95180\n",
      "\n",
      "Running Louvain algorithm...\n",
      "Maximum modularity in 10 random starts: 0.7894\n",
      "Number of communities: 13\n",
      "Elapsed time: 0 seconds\n",
      "[1] 13\n"
     ]
    }
   ],
   "source": [
    "library(Seurat)\n",
    "# DefaultAssay(data) <- \"Spatial\"\n",
    "# data <- NormalizeData(data)\n",
    "# data <- ScaleData(data, features = rownames(data))\n",
    "rna <- NormalizeData(rna, verbose=FALSE)\n",
    "rna <- FindVariableFeatures(rna, verbose=FALSE, nfeatures=3000)\n",
    "rna <- ScaleData(rna, verbose=FALSE)\n",
    "rna <- RunPCA(rna, npcs = 30, verbose = FALSE)\n",
    "rna <- FindNeighbors(rna, reduction = \"pca\", dims = 1:30)\n",
    "rna <- FindClusters(rna)\n",
    "print(length(unique((rna$seurat_clusters))))"
   ]
  },
  {
   "cell_type": "code",
   "execution_count": 6,
   "metadata": {
    "vscode": {
     "languageId": "r"
    }
   },
   "outputs": [],
   "source": [
    "X <- rna@assays$RNA$counts\n",
    "Y <- peak@assays@data$X"
   ]
  },
  {
   "cell_type": "code",
   "execution_count": 7,
   "metadata": {
    "vscode": {
     "languageId": "r"
    }
   },
   "outputs": [],
   "source": [
    "Z0 <- genescore@assays$RNA$counts"
   ]
  },
  {
   "cell_type": "code",
   "execution_count": 8,
   "metadata": {
    "vscode": {
     "languageId": "r"
    }
   },
   "outputs": [],
   "source": [
    "# rownames(Z0) <- rownames(genescore)\n",
    "# colnames(Z0) <- colnames(genescore)"
   ]
  },
  {
   "cell_type": "code",
   "execution_count": 8,
   "metadata": {
    "vscode": {
     "languageId": "r"
    }
   },
   "outputs": [
    {
     "name": "stderr",
     "output_type": "stream",
     "text": [
      "Warning message in asMethod(object):\n",
      "“sparse->dense coercion: allocating vector of size 3.1 GiB”\n"
     ]
    }
   ],
   "source": [
    "gene.overlap <- intersect(rownames(X), rownames(Z0))\n",
    "cell.overlap <- intersect(colnames(Y), colnames(Z0))\n",
    "\n",
    "X <- as.matrix(X[gene.overlap,])\n",
    "Z0 <- as.matrix(Z0[gene.overlap, cell.overlap])\n",
    "Y <- as.matrix(Y[,cell.overlap])"
   ]
  },
  {
   "cell_type": "code",
   "execution_count": 9,
   "metadata": {
    "vscode": {
     "languageId": "r"
    }
   },
   "outputs": [],
   "source": [
    "out <- dimReduce( dt1 =  X, dt2 = Z0,  K = 30)\n",
    "x <- out$dt1\n",
    "z0 <- out$dt2\n",
    "y  <- dimReduce(dt1 = Y, K=30)"
   ]
  },
  {
   "cell_type": "code",
   "execution_count": 10,
   "metadata": {
    "vscode": {
     "languageId": "r"
    }
   },
   "outputs": [
    {
     "name": "stderr",
     "output_type": "stream",
     "text": [
      "2025-01-13 15:05:59.104915  Started!\n",
      "\n"
     ]
    },
    {
     "name": "stderr",
     "output_type": "stream",
     "text": [
      "2025-01-13 15:05:59.120564  Dimension Check: X[30x2187] Y[30x2187] Z0[30x2187]\n",
      "\n",
      "2025-01-13 15:05:59.120564  Decomposing started!\n",
      "\n",
      "Warning message in irlba(in2, nv = K, nu = K):\n",
      "“You're computing too large a percentage of total singular values, use a standard svd instead.”\n",
      "Warning message in irlba(in2, nv = K, nu = K):\n",
      "“You're computing too large a percentage of total singular values, use a standard svd instead.”\n",
      "Warning message in irlba(in2, nv = K, nu = K):\n",
      "“You're computing too large a percentage of total singular values, use a standard svd instead.”\n",
      "Warning message in irlba(in2, nv = K, nu = K):\n",
      "“You're computing too large a percentage of total singular values, use a standard svd instead.”\n",
      "Warning message in irlba(in2, nv = K, nu = K):\n",
      "“You're computing too large a percentage of total singular values, use a standard svd instead.”\n",
      "Warning message in irlba(in2, nv = K, nu = K):\n",
      "“You're computing too large a percentage of total singular values, use a standard svd instead.”\n",
      "Warning message in irlba(in2, nv = K, nu = K):\n",
      "“You're computing too large a percentage of total singular values, use a standard svd instead.”\n",
      "Warning message in irlba(in2, nv = K, nu = K):\n",
      "“You're computing too large a percentage of total singular values, use a standard svd instead.”\n",
      "Warning message in irlba(in2, nv = K, nu = K):\n",
      "“You're computing too large a percentage of total singular values, use a standard svd instead.”\n",
      "Warning message in irlba(in2, nv = K, nu = K):\n",
      "“You're computing too large a percentage of total singular values, use a standard svd instead.”\n",
      "Warning message in irlba(in2, nv = K, nu = K):\n",
      "“You're computing too large a percentage of total singular values, use a standard svd instead.”\n",
      "Warning message in irlba(in2, nv = K, nu = K):\n",
      "“You're computing too large a percentage of total singular values, use a standard svd instead.”\n",
      "Warning message in irlba(in2, nv = K, nu = K):\n",
      "“You're computing too large a percentage of total singular values, use a standard svd instead.”\n",
      "Warning message in irlba(in2, nv = K, nu = K):\n",
      "“You're computing too large a percentage of total singular values, use a standard svd instead.”\n",
      "Warning message in irlba(in2, nv = K, nu = K):\n",
      "“You're computing too large a percentage of total singular values, use a standard svd instead.”\n",
      "Warning message in irlba(in2, nv = K, nu = K):\n",
      "“You're computing too large a percentage of total singular values, use a standard svd instead.”\n",
      "Warning message in irlba(in2, nv = K, nu = K):\n",
      "“You're computing too large a percentage of total singular values, use a standard svd instead.”\n",
      "Warning message in irlba(in2, nv = K, nu = K):\n",
      "“You're computing too large a percentage of total singular values, use a standard svd instead.”\n",
      "Warning message in irlba(in2, nv = K, nu = K):\n",
      "“You're computing too large a percentage of total singular values, use a standard svd instead.”\n",
      "Warning message in irlba(in2, nv = K, nu = K):\n",
      "“You're computing too large a percentage of total singular values, use a standard svd instead.”\n",
      "Warning message in irlba(in2, nv = K, nu = K):\n",
      "“You're computing too large a percentage of total singular values, use a standard svd instead.”\n",
      "Warning message in irlba(in2, nv = K, nu = K):\n",
      "“You're computing too large a percentage of total singular values, use a standard svd instead.”\n",
      "Warning message in irlba(in2, nv = K, nu = K):\n",
      "“You're computing too large a percentage of total singular values, use a standard svd instead.”\n",
      "\n",
      "\n",
      "\n",
      "2025-01-13 15:06:13.942912  Done! The decomposition is converged.\n",
      "\n"
     ]
    }
   ],
   "source": [
    "res <- BiCCA( X = t(x) ,\n",
    "             Y = t(y), \n",
    "             Z0 =t(z0), \n",
    "             X.clst = as.vector(rna$seurat_clusters),\n",
    "             Y.clst = as.vector(peak$leiden),\n",
    "             alpha = 0.1, \n",
    "             lambda = 0.7,\n",
    "             K = 15,\n",
    "             temp.path  = \"out\",\n",
    "             num.iteration = 50,\n",
    "             tolerance = 0.01,\n",
    "             save = TRUE,\n",
    "             parameter.optimize = FALSE,\n",
    "             block.size = 0)"
   ]
  },
  {
   "cell_type": "code",
   "execution_count": 11,
   "metadata": {
    "vscode": {
     "languageId": "r"
    }
   },
   "outputs": [
    {
     "data": {
      "text/html": [
       "<style>\n",
       ".list-inline {list-style: none; margin:0; padding: 0}\n",
       ".list-inline>li {display: inline-block}\n",
       ".list-inline>li:not(:last-child)::after {content: \"\\00b7\"; padding: 0 .5ex}\n",
       "</style>\n",
       "<ol class=list-inline><li>2187</li><li>15</li></ol>\n"
      ],
      "text/latex": [
       "\\begin{enumerate*}\n",
       "\\item 2187\n",
       "\\item 15\n",
       "\\end{enumerate*}\n"
      ],
      "text/markdown": [
       "1. 2187\n",
       "2. 15\n",
       "\n",
       "\n"
      ],
      "text/plain": [
       "[1] 2187   15"
      ]
     },
     "metadata": {},
     "output_type": "display_data"
    },
    {
     "data": {
      "text/html": [
       "<style>\n",
       ".list-inline {list-style: none; margin:0; padding: 0}\n",
       ".list-inline>li {display: inline-block}\n",
       ".list-inline>li:not(:last-child)::after {content: \"\\00b7\"; padding: 0 .5ex}\n",
       "</style>\n",
       "<ol class=list-inline><li>2187</li><li>15</li></ol>\n"
      ],
      "text/latex": [
       "\\begin{enumerate*}\n",
       "\\item 2187\n",
       "\\item 15\n",
       "\\end{enumerate*}\n"
      ],
      "text/markdown": [
       "1. 2187\n",
       "2. 15\n",
       "\n",
       "\n"
      ],
      "text/plain": [
       "[1] 2187   15"
      ]
     },
     "metadata": {},
     "output_type": "display_data"
    }
   ],
   "source": [
    "library(umap)\n",
    "dim(res$u)\n",
    "dim(res$r)\n",
    "embed = rbind(res$u, res$r)"
   ]
  },
  {
   "cell_type": "code",
   "execution_count": 12,
   "metadata": {
    "vscode": {
     "languageId": "r"
    }
   },
   "outputs": [],
   "source": [
    "# write.csv(file=\"rep5/BindSC_embed.csv\",embed)"
   ]
  }
 ],
 "metadata": {
  "kernelspec": {
   "display_name": "R",
   "language": "R",
   "name": "ir"
  },
  "language_info": {
   "codemirror_mode": "r",
   "file_extension": ".r",
   "mimetype": "text/x-r-source",
   "name": "R",
   "pygments_lexer": "r",
   "version": "4.3.1"
  }
 },
 "nbformat": 4,
 "nbformat_minor": 2
}
